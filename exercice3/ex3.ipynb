{
 "cells": [
  {
   "attachments": {},
   "cell_type": "markdown",
   "metadata": {},
   "source": [
    "# Question 1\n",
    "\n",
    "We are trying to prove this equation : \n",
    "$$\n",
    "\\mathbb{E}\\left(R_n(\\hat{\\theta})\\right)=\\mathbb{E}_\\epsilon\\left(\\frac{1}{n}\\left\\|\\left(I_n-X\\left(X^T X\\right)^{-1} X^T\\right) \\epsilon\\right\\|^2\\right)\n",
    "$$\n",
    "\n",
    "We already got :\n",
    "$$  \n",
    "Y=X \\theta^*+\\epsilon \\\\\n",
    "\\hat{\\theta}=\\left(X^T X\\right)^{-1} X^T Y \\\\\n",
    "R_n(\\hat{\\theta})=\\frac{1}{n}\\|Y-X \\hat{\\theta}\\|^2 \\\\\n",
    "$$\n",
    "Therefore :\n",
    "$$  \n",
    "\\begin{align*}\n",
    "R_n(\\hat{\\theta}) & =\\frac{1}{n}\\left\\|X \\theta^*+\\epsilon-X\\left(X^T X\\right)^{-1} X^T\\left(X \\theta^*+\\epsilon\\right)\\right\\|^2 \\\\\n",
    "& =\\frac{1}{n}\\left\\|X \\theta^*+\\epsilon-X\\left(X^T X\\right)^{-1} X^T X \\theta^*+X\\left(X^T X\\right)^{-1} X^T \\epsilon\\right\\|^2 \\\\\n",
    "& =\\frac{1}{n}\\left\\|\\left(I_n-X\\left(X^T X\\right)^{-1} X^T\\right)\\epsilon\\right\\|^2\n",
    "\\end{align*}\n",
    "$$\n",
    "$$\n",
    "\\mathbb{E}\\left(R_n(\\hat{\\theta})\\right)=\\mathbb{E}_\\epsilon\\left(\\frac{1}{n}\\left\\|\\left(I_n-X\\left(X^T X\\right)^{-1} X^T\\right) \\epsilon\\right\\|^2\\right)\n",
    "$$\n",
    "\n",
    "\n",
    "We proved the equation 1 !"
   ]
  },
  {
   "attachments": {},
   "cell_type": "markdown",
   "metadata": {},
   "source": [
    "# Question 2\n",
    "\n",
    "..."
   ]
  },
  {
   "attachments": {},
   "cell_type": "markdown",
   "metadata": {},
   "source": [
    "# Question 3\n",
    "\n",
    "let's prove that :\n",
    "$$\n",
    "E\\left[\\frac{1}{n}\\|A \\varepsilon\\|^2\\right]=\\frac{\\sigma^2}{n} \\operatorname{Tr}\\left(A^T A\\right)\n",
    "$$\n",
    "--\n",
    "$$\n",
    "\\begin{aligned}\n",
    "E\\left[\\frac{1}{n}\\|A \\varepsilon\\|^2\\right] & =E\\left[\\frac{1}{n} \\sum_{i=1}^n\\left(A_i \\varepsilon\\right)^2\\right] \\\\\n",
    "& =E\\left[\\frac{1}{n} \\sum_{i=1}^n\\left(\\varepsilon^T A_i^T\\right)^2\\right] \\\\ \n",
    "& =E\\left[\\frac{1}{n} \\sum_{i=1}^n\\left(\\varepsilon^T A_i^T A_i \\varepsilon\\right)\\right] \\\\ \n",
    "& =E\\left[\\frac{1}{n} \\sum_{i=1}^n\\left(\\varepsilon^T \\varepsilon A_i^T A_i\\right)\\right] \\\\ \n",
    "& =E\\left[\\frac{1}{n} \\varepsilon^T \\varepsilon \\sum_{i=1}^n\\left(A_i^T A_i\\right)\\right] \\\\ \n",
    "& =E\\left[\\frac{1}{n} \\varepsilon^2 \\sum_{(i j) \\in[1, n]^2}\\left(A_{i j}^2\\right)\\right] \\\\ \n",
    "& =\\frac{\\sigma^2}{n} \\operatorname{Tr}\\left(A^T A\\right)\n",
    "\\end{aligned}\n",
    "$$\n",
    "\n",
    "We proved equation 3 !"
   ]
  },
  {
   "attachments": {},
   "cell_type": "markdown",
   "metadata": {},
   "source": [
    "# Question 4\n",
    "We note that :\n",
    "$$\n",
    "A=I_n-X\\left(X^t X\\right)^{-1} X^t\n",
    "$$\n",
    "\n",
    "Let's try to prove this equation : \n",
    "$$ \n",
    "A^t A=A\n",
    "$$\n",
    "--\n",
    "$$\n",
    "\\begin{aligned}\n",
    "A^t A&=I_n-2 I_n X\\left(X^t X\\right)^{-1} X^t+X\\left(X^t X\\right)^{-1} X^t X\\left(X^t X\\right)^{-1} X^t \\\\ &=I_n-2 X\\left(X^t X\\right)^{-1} X^t+X\\left(X^t X\\right)^{-1} X^t \\\\ \n",
    "&=I_n-X\\left(X^t X\\right)^{-1} X^t \\\\ \n",
    "&=A\n",
    "\\end{aligned}\n",
    "$$\n",
    "\n",
    "We proved equation 4 !"
   ]
  },
  {
   "attachments": {},
   "cell_type": "markdown",
   "metadata": {},
   "source": [
    "# Question 5\n",
    "\n",
    "Taking all we got in the above questions :\n",
    "$$\n",
    "\\begin{aligned}\n",
    "E\\left[R_n(\\hat{\\theta})\\right]&=E_\\epsilon\\left[\\frac{1}{n}\\left\\|\\left(I_n-X\\left(X^T X\\right)^{-1} X^T\\right) \\epsilon\\right\\|_2^2\\right] \\\\\n",
    "&=\\frac{\\sigma^2}{n} \\operatorname{tr}\\left(I_n-X\\left(X^T X\\right)^{-1} X^T\\right) \\\\\n",
    "&=\\frac{\\sigma^2}{n}\\left(n-\\operatorname{tr}\\left(X\\left(X^T X\\right)^{-1} X^T\\right)\\right) \\\\\n",
    "&=\\frac{\\sigma^2}{n}\\left(n-\\operatorname{tr}\\left(X^T X\\left(X^T X\\right)^{-1}\\right)\\right) \\\\\n",
    "&=\\frac{\\sigma^2}{n}\\left(n-\\operatorname{tr}\\left(I_d\\right)\\right) \\\\\n",
    "&=\\frac{\\sigma^2}{n}(n-d)\n",
    "\\end{aligned}\n",
    "$$\n",
    "Finaly :\n",
    "$$\n",
    "\\begin{aligned}\n",
    "E\\left[R_X(\\hat{\\theta})\\right]&=E\\left[E\\left[R_n(\\hat{\\theta})\\right]\\right] \\\\\n",
    " &=E\\left[\\frac{n-d}{n} \\sigma^2\\right]=\\frac{n-d}{n} \\sigma^2\n",
    " \\end{aligned}\n",
    "$$\n",
    "\n",
    "We proved equation 5 !"
   ]
  },
  {
   "attachments": {},
   "cell_type": "markdown",
   "metadata": {},
   "source": [
    "# Question 6\n",
    "We are looking to find the expected value of $\\frac{\\|y-\\widehat{\\theta}\\|}{n-d} \\sigma^2$.\n",
    "\n",
    "We got :\n",
    "$$\n",
    "\\begin{aligned}\n",
    "\\frac{\\|y-\\widehat{\\theta}\\|}{n-d} \\sigma^2&=\\frac{n-d}{n-d} \\sigma^2 \\\\\n",
    " &=\\sigma^2\n",
    "\\end{aligned}\n",
    "$$\n",
    "\n",
    "We proved equation 6 !"
   ]
  },
  {
   "attachments": {},
   "cell_type": "markdown",
   "metadata": {},
   "source": [
    "# Question 7\n",
    "\n",
    "Let's make a numerical simulation to estimate $\\sigma^2$"
   ]
  },
  {
   "cell_type": "code",
   "execution_count": 10,
   "metadata": {},
   "outputs": [
    {
     "name": "stdout",
     "output_type": "stream",
     "text": [
      "Value of sigma squared is 0.040\n",
      "Value of sigma squared estimator is 0.038844\n"
     ]
    }
   ],
   "source": [
    "import numpy as np\n",
    "\n",
    "random = np.random.RandomState(42)\n",
    "\n",
    "n = 2000\n",
    "d = 25\n",
    "sigma = 0.20\n",
    "theta = random.rand(d).reshape(d, 1)\n",
    "\n",
    "X = random.rand(n, d)\n",
    "epsilon = random.normal(0, sigma, size=(n, 1))\n",
    "\n",
    "y = X @ theta + epsilon\n",
    "\n",
    "theta_hat = np.linalg.inv(X.T @ X) @ X.T @ y\n",
    "\n",
    "sigma_estimator = np.linalg.norm(y - X @ theta_hat) ** 2 / (n - d)\n",
    "\n",
    "\n",
    "print(\"Value of sigma squared is {:.3f}\".format(sigma**2))\n",
    "print(\"Value of sigma squared estimator is {:.6f}\".format(sigma_estimator))"
   ]
  },
  {
   "attachments": {},
   "cell_type": "markdown",
   "metadata": {},
   "source": [
    "With the mathematical equations we proved earlier, we managed to get a reliable sigma squared estimator !"
   ]
  }
 ],
 "metadata": {
  "kernelspec": {
   "display_name": "my_venv",
   "language": "python",
   "name": "python3"
  },
  "language_info": {
   "name": "python",
   "version": "3.8.2"
  },
  "orig_nbformat": 4
 },
 "nbformat": 4,
 "nbformat_minor": 2
}
