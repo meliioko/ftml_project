{
 "cells": [
  {
   "attachments": {},
   "cell_type": "markdown",
   "metadata": {},
   "source": [
    "# Question 1\n",
    "\n",
    "We are trying to prove this equation : \n",
    "$$\n",
    "\\mathbb{E}\\left(R_n(\\hat{\\theta})\\right)=\\mathbb{E}_\\epsilon\\left(\\frac{1}{n}\\left\\|\\left(I_n-X\\left(X^T X\\right)^{-1} X^T\\right) \\epsilon\\right\\|^2\\right)\n",
    "$$\n",
    "\n",
    "We already got :\n",
    "$$  \n",
    "Y=X \\theta^*+\\epsilon \\\\\n",
    "\\hat{\\theta}=\\left(X^T X\\right)^{-1} X^T Y \\\\\n",
    "R_n(\\hat{\\theta})=\\frac{1}{n}\\|Y-X \\hat{\\theta}\\|^2 \\\\\n",
    "$$\n",
    "Therefore :\n",
    "$$  \n",
    "\\begin{align*}\n",
    "R_n(\\hat{\\theta}) & =\\frac{1}{n}\\left\\|X \\theta^*+\\epsilon-X\\left(X^T X\\right)^{-1} X^T\\left(X \\theta^*+\\epsilon\\right)\\right\\|^2 \\\\\n",
    "& =\\frac{1}{n}\\left\\|X \\theta^*+\\epsilon-X\\left(X^T X\\right)^{-1} X^T X \\theta^*+X\\left(X^T X\\right)^{-1} X^T \\epsilon\\right\\|^2 \\\\\n",
    "& =\\frac{1}{n}\\left\\|\\left(I_n-X\\left(X^T X\\right)^{-1} X^T\\right)\\epsilon\\right\\|^2\n",
    "\\end{align*}\n",
    "$$\n",
    "$$\n",
    "\\mathbb{E}\\left(R_n(\\hat{\\theta})\\right)=\\mathbb{E}_\\epsilon\\left(\\frac{1}{n}\\left\\|\\left(I_n-X\\left(X^T X\\right)^{-1} X^T\\right) \\epsilon\\right\\|^2\\right)\n",
    "$$\n",
    "\n",
    "\n",
    "We proved the equation 1 !"
   ]
  },
  {
   "attachments": {},
   "cell_type": "markdown",
   "metadata": {},
   "source": [
    "# Question 2\n",
    "\n",
    "Let $A$ be a matrix in $\\mathbb{R}^{n \\times n}$. We want to prove that $\\sum_{i=1}^{n} \\sum_{j=1}^{n} a_{ij}^2 = \\text{tr}(A^T A)$, where $a_{ij}$ represents the elements of the matrix $A$, and $A^T A$ represents the multiplication of the transpose of $A$ with $A$. \n",
    "\n",
    "The element at the $i$-th row and $j$-th column of $A^T A$ is given by $\\sum_{k=1}^{n} a_{ki}a_{kj}$. Since the trace of a matrix is the sum of its diagonal elements, we have \n",
    "\n",
    "$$\n",
    "\\text{tr}(A^T A) = \\sum_{i=1}^{n} \\left( \\sum_{k=1}^{n} a_{ki}a_{ki} \\right) = \\sum_{i=1}^{n} \\sum_{k=1}^{n} a_{ki}^2,\n",
    "$$\n",
    "\n",
    "where we have used the fact that the indices are dummy variables and can be interchanged. \n",
    "\n",
    "Hence, $\\sum_{i=1}^{n} \\sum_{j=1}^{n} a_{ij}^2 = \\text{tr}(A^T A)$.\n",
    "\n",
    "We proved equation 2 !\n"
   ]
  },
  {
   "attachments": {},
   "cell_type": "markdown",
   "metadata": {},
   "source": [
    "# Question 3\n",
    "\n",
    "let's prove that :\n",
    "$$\n",
    "E\\left[\\frac{1}{n}\\|A \\varepsilon\\|^2\\right]=\\frac{\\sigma^2}{n} \\operatorname{Tr}\\left(A^T A\\right)\n",
    "$$\n",
    "--\n",
    "$$\n",
    "\\begin{aligned}\n",
    "E\\left[\\frac{1}{n}\\|A \\varepsilon\\|^2\\right] & =E\\left[\\frac{1}{n} \\sum_{i=1}^n\\left(A_i \\varepsilon\\right)^2\\right] \\\\\n",
    "& =E\\left[\\frac{1}{n} \\sum_{i=1}^n\\left(\\varepsilon^T A_i^T\\right)^2\\right] \\\\ \n",
    "& =E\\left[\\frac{1}{n} \\sum_{i=1}^n\\left(\\varepsilon^T A_i^T A_i \\varepsilon\\right)\\right] \\\\ \n",
    "& =E\\left[\\frac{1}{n} \\sum_{i=1}^n\\left(\\varepsilon^T \\varepsilon A_i^T A_i\\right)\\right] \\\\ \n",
    "& =E\\left[\\frac{1}{n} \\varepsilon^T \\varepsilon \\sum_{i=1}^n\\left(A_i^T A_i\\right)\\right] \\\\ \n",
    "& =E\\left[\\frac{1}{n} \\varepsilon^2 \\sum_{(i j) \\in[1, n]^2}\\left(A_{i j}^2\\right)\\right] \\\\ \n",
    "& =\\frac{\\sigma^2}{n} \\operatorname{Tr}\\left(A^T A\\right)\n",
    "\\end{aligned}\n",
    "$$\n",
    "\n",
    "We proved equation 3 !"
   ]
  },
  {
   "attachments": {},
   "cell_type": "markdown",
   "metadata": {},
   "source": [
    "# Question 4\n",
    "We note that :\n",
    "$$\n",
    "A=I_n-X\\left(X^t X\\right)^{-1} X^t\n",
    "$$\n",
    "\n",
    "Let's try to prove this equation : \n",
    "$$ \n",
    "A^t A=A\n",
    "$$\n",
    "--\n",
    "$$\n",
    "\\begin{aligned}\n",
    "A^t A&=I_n-2 I_n X\\left(X^t X\\right)^{-1} X^t+X\\left(X^t X\\right)^{-1} X^t X\\left(X^t X\\right)^{-1} X^t \\\\ &=I_n-2 X\\left(X^t X\\right)^{-1} X^t+X\\left(X^t X\\right)^{-1} X^t \\\\ \n",
    "&=I_n-X\\left(X^t X\\right)^{-1} X^t \\\\ \n",
    "&=A\n",
    "\\end{aligned}\n",
    "$$\n",
    "\n",
    "We proved equation 4 !"
   ]
  },
  {
   "attachments": {},
   "cell_type": "markdown",
   "metadata": {},
   "source": [
    "# Question 5\n",
    "\n",
    "Taking all we got in the above questions :\n",
    "$$\n",
    "\\begin{aligned}\n",
    "E\\left[R_n(\\hat{\\theta})\\right]&=E_\\epsilon\\left[\\frac{1}{n}\\left\\|\\left(I_n-X\\left(X^T X\\right)^{-1} X^T\\right) \\epsilon\\right\\|_2^2\\right] \\\\\n",
    "&=\\frac{\\sigma^2}{n} \\operatorname{tr}\\left(I_n-X\\left(X^T X\\right)^{-1} X^T\\right) \\\\\n",
    "&=\\frac{\\sigma^2}{n}\\left(n-\\operatorname{tr}\\left(X\\left(X^T X\\right)^{-1} X^T\\right)\\right) \\\\\n",
    "&=\\frac{\\sigma^2}{n}\\left(n-\\operatorname{tr}\\left(X^T X\\left(X^T X\\right)^{-1}\\right)\\right) \\\\\n",
    "&=\\frac{\\sigma^2}{n}\\left(n-\\operatorname{tr}\\left(I_d\\right)\\right) \\\\\n",
    "&=\\frac{\\sigma^2}{n}(n-d)\n",
    "\\end{aligned}\n",
    "$$\n",
    "Finaly :\n",
    "$$\n",
    "\\begin{aligned}\n",
    "E\\left[R_X(\\hat{\\theta})\\right]&=E\\left[E\\left[R_n(\\hat{\\theta})\\right]\\right] \\\\\n",
    " &=E\\left[\\frac{n-d}{n} \\sigma^2\\right]=\\frac{n-d}{n} \\sigma^2\n",
    " \\end{aligned}\n",
    "$$\n",
    "\n",
    "We proved equation 5 !"
   ]
  },
  {
   "attachments": {},
   "cell_type": "markdown",
   "metadata": {},
   "source": [
    "# Question 6\n",
    "We are looking to find the expected value of $\\frac{\\|y-\\widehat{\\theta}\\|}{n-d} \\sigma^2$.\n",
    "\n",
    "We got :\n",
    "$$\n",
    "\\begin{aligned}\n",
    "\\frac{\\|y-\\widehat{\\theta}\\|}{n-d} \\sigma^2&=\\frac{n-d}{n-d} \\sigma^2 \\\\\n",
    " &=\\sigma^2\n",
    "\\end{aligned}\n",
    "$$\n",
    "\n",
    "We proved equation 6 !"
   ]
  },
  {
   "attachments": {},
   "cell_type": "markdown",
   "metadata": {},
   "source": [
    "# Question 7\n",
    "\n",
    "Let's make a numerical simulation to estimate $\\sigma^2$"
   ]
  },
  {
   "cell_type": "code",
   "execution_count": 1,
   "metadata": {},
   "outputs": [
    {
     "name": "stdout",
     "output_type": "stream",
     "text": [
      "True variance is 0.040\n",
      "Estimated variance is 0.038844\n"
     ]
    }
   ],
   "source": [
    "import numpy as np\n",
    "\n",
    "# Seed for reproducible results\n",
    "np.random.seed(42)\n",
    "\n",
    "# Setting up dimensions and variance\n",
    "num_samples = 2000\n",
    "num_features = 25\n",
    "variance = 0.20\n",
    "\n",
    "# Randomly initialize the theta (parameters) vector\n",
    "params = np.random.rand(num_features, 1)\n",
    "\n",
    "# Generate random feature matrix\n",
    "feature_matrix = np.random.rand(num_samples, num_features)\n",
    "\n",
    "# Generate random noise\n",
    "noise = np.random.normal(0, variance, size=(num_samples, 1))\n",
    "\n",
    "# Generate targets (output)\n",
    "targets = np.dot(feature_matrix, params) + noise\n",
    "\n",
    "# Estimate the theta (parameters) using the normal equation\n",
    "params_estimate = np.dot(np.linalg.pinv(np.dot(feature_matrix.T, feature_matrix)), np.dot(feature_matrix.T, targets))\n",
    "\n",
    "# Estimate the variance\n",
    "variance_estimate = np.square(np.linalg.norm(targets - np.dot(feature_matrix, params_estimate))) / (num_samples - num_features)\n",
    "\n",
    "\n",
    "print(\"True variance is {:.3f}\".format(variance**2))\n",
    "print(\"Estimated variance is {:.6f}\".format(variance_estimate))\n"
   ]
  },
  {
   "attachments": {},
   "cell_type": "markdown",
   "metadata": {},
   "source": [
    "With the mathematical equations we proved earlier, we managed to get a reliable sigma squared estimator !"
   ]
  }
 ],
 "metadata": {
  "kernelspec": {
   "display_name": "my_venv",
   "language": "python",
   "name": "python3"
  },
  "language_info": {
   "codemirror_mode": {
    "name": "ipython",
    "version": 3
   },
   "file_extension": ".py",
   "mimetype": "text/x-python",
   "name": "python",
   "nbconvert_exporter": "python",
   "pygments_lexer": "ipython3",
   "version": "3.10.9"
  },
  "orig_nbformat": 4
 },
 "nbformat": 4,
 "nbformat_minor": 2
}
