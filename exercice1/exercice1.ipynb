{
 "cells": [
  {
   "attachments": {},
   "cell_type": "markdown",
   "metadata": {},
   "source": [
    "# Bayes estimator and bayes risk"
   ]
  },
  {
   "attachments": {},
   "cell_type": "markdown",
   "metadata": {},
   "source": [
    "## Question 1 (M)"
   ]
  },
  {
   "attachments": {},
   "cell_type": "markdown",
   "metadata": {},
   "source": [
    "### Predicting Sales of a New Book\n",
    "\n",
    "A publishing company wants to predict the number of copies a new book will sell in the first month after release, based on the marketing budget allocated. The marketing budget is represented by the number of marketing campaigns run for the book, denoted as X.\n",
    "\n",
    "The assumptions are:\n",
    "\n",
    "- X ∈ N follows a Poisson distribution with a mean λ = 5. Hence, X ≥ 0.\n",
    "- Given a value x of X, Y (the number of books sold) follows a Normal distribution with mean μ = 100x and standard deviation σ = 50.\n",
    "- l is the squared loss."
   ]
  },
  {
   "attachments": {},
   "cell_type": "markdown",
   "metadata": {},
   "source": [
    "f(x) = E[Y|X=x] = 100x.\n",
    "R(f) = E[(Y - f(X))²] = σ² = 2500"
   ]
  }
 ],
 "metadata": {
  "language_info": {
   "name": "python"
  },
  "orig_nbformat": 4
 },
 "nbformat": 4,
 "nbformat_minor": 2
}
