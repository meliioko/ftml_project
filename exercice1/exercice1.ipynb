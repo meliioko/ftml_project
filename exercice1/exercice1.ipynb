{
 "cells": [
  {
   "attachments": {},
   "cell_type": "markdown",
   "metadata": {},
   "source": [
    "# Bayes estimator and bayes risk"
   ]
  },
  {
   "attachments": {},
   "cell_type": "markdown",
   "metadata": {},
   "source": [
    "## Question 1 (M)"
   ]
  },
  {
   "attachments": {},
   "cell_type": "markdown",
   "metadata": {},
   "source": [
    "### Predicting Sales of a New Book\n",
    "\n",
    "A publishing company wants to predict the number of copies a new book will sell in the first month after release, based on the marketing budget allocated. The marketing budget is represented by the number of marketing campaigns run for the book, denoted as X.\n",
    "\n",
    "The assumptions are:\n",
    "\n",
    "- X ∈ N follows a Poisson distribution with a mean λ = 5. Hence, X ≥ 0.\n",
    "- Given a value x of X, Y (the number of books sold) follows a Normal distribution with mean μ = 100x and standard deviation σ = 50.\n",
    "- l is the squared loss."
   ]
  },
  {
   "attachments": {},
   "cell_type": "markdown",
   "metadata": {},
   "source": [
    "\n",
    "R(f) = E[(Y - f(X))²] = σ² = 2500"
   ]
  },
  {
   "attachments": {},
   "cell_type": "markdown",
   "metadata": {},
   "source": [
    "The Bayes predictor minimizes the posterior expected loss. Here, the loss function is the squared loss function. The Bayes predictor, under squared loss, is the mean of the conditional distribution. That means, given an X = x, the Bayes predictor is E[Y | X = x].\n",
    "\n",
    "In our case, Y, given X = x follows a normal distribution with mean μ = 100x and standard deviation σ = 50. Hence the Bayes predictor is : f*(x), is 100x"
   ]
  },
  {
   "attachments": {},
   "cell_type": "markdown",
   "metadata": {},
   "source": [
    "The Bayes risk is the expected loss of the Bayes predictor. For the MSE loss function, the Bayes risk can be computed as the variance of the conditional distribution. So, the Bayes risk is the variance of the distribution of Y given X = x, which is (σ)^2 = 50^2 = 2500.\n"
   ]
  },
  {
   "attachments": {},
   "cell_type": "markdown",
   "metadata": {},
   "source": [
    "For the question 2, we will use an constant predicator of 500.\n",
    "Let's verify that it doesn't achieve better than our Bayes preicator"
   ]
  },
  {
   "cell_type": "code",
   "execution_count": 6,
   "metadata": {},
   "outputs": [
    {
     "name": "stdout",
     "output_type": "stream",
     "text": [
      "Empirical Risk of f*: 2516.3765823088042\n",
      "Empirical Risk of  ̃f: 52670.367065738894\n"
     ]
    }
   ],
   "source": [
    "import numpy as np\n",
    "from scipy.stats import poisson, norm\n",
    "\n",
    "np.random.seed(42)\n",
    "\n",
    "# Parameters\n",
    "lambda_ = 5\n",
    "mu = 100\n",
    "sigma = 50\n",
    "num_samples = 100000\n",
    "\n",
    "# Generate samples\n",
    "X = poisson.rvs(mu=lambda_, size=num_samples)\n",
    "Y = norm.rvs(loc=mu*X, scale=sigma, size=num_samples)\n",
    "\n",
    "# Bayes estimator\n",
    "f_star = mu * X\n",
    "\n",
    "# Proposed estimator\n",
    "f_tilde = np.repeat(500, num_samples)\n",
    "\n",
    "# Calculate empirical risk (mean squared error)\n",
    "risk_f_star = np.mean((Y - f_star)**2)\n",
    "risk_f_tilde = np.mean((Y - f_tilde)**2)\n",
    "\n",
    "print(f\"Empirical Risk of f*: {risk_f_star}\")\n",
    "print(f\"Empirical Risk of  ̃f: {risk_f_tilde}\")"
   ]
  },
  {
   "attachments": {},
   "cell_type": "markdown",
   "metadata": {},
   "source": [
    "The empirical risk of f* is close to 2500 our Bayes risk\n",
    "Our other predicator as we thought achieve poorly on our data."
   ]
  }
 ],
 "metadata": {
  "kernelspec": {
   "display_name": "venv",
   "language": "python",
   "name": "python3"
  },
  "language_info": {
   "codemirror_mode": {
    "name": "ipython",
    "version": 3
   },
   "file_extension": ".py",
   "mimetype": "text/x-python",
   "name": "python",
   "nbconvert_exporter": "python",
   "pygments_lexer": "ipython3",
   "version": "3.10.9"
  },
  "orig_nbformat": 4
 },
 "nbformat": 4,
 "nbformat_minor": 2
}
