{
 "cells": [
  {
   "attachments": {},
   "cell_type": "markdown",
   "metadata": {},
   "source": [
    "## Exercice 5\n"
   ]
  },
  {
   "cell_type": "code",
   "execution_count": 3,
   "metadata": {},
   "outputs": [],
   "source": [
    "import numpy as np\n",
    "\n",
    "#Load dataset\n",
    "X_train = np.load('../data/classification/X_train.npy')\n",
    "y_train = np.load('../data/classification/y_train.npy')\n",
    "X_test = np.load('../data/classification/X_test.npy')\n",
    "y_test = np.load('../data/classification/y_test.npy')"
   ]
  },
  {
   "cell_type": "code",
   "execution_count": 14,
   "metadata": {},
   "outputs": [
    {
     "name": "stdout",
     "output_type": "stream",
     "text": [
      "SVM Classification Accuracy: 0.836\n",
      "Gradient Boosting Classification Accuracy: 0.79\n"
     ]
    }
   ],
   "source": [
    "from sklearn.ensemble import GradientBoostingClassifier\n",
    "from sklearn.svm import SVC\n",
    "\n",
    "from sklearn.metrics import accuracy_score\n",
    "\n",
    "svm_cls = SVC()\n",
    "gradient_boosting_cls = GradientBoostingClassifier()\n",
    "\n",
    "svm_cls.fit(X_train, y_train)\n",
    "svm_cls_preds = svm_cls.predict(X_test)\n",
    "svm_cls_accuracy = accuracy_score(y_test, svm_cls_preds)\n",
    "print(\"SVM Classification Accuracy:\", svm_cls_accuracy)\n",
    "\n",
    "gradient_boosting_cls.fit(X_train, y_train)\n",
    "gradient_boosting_cls_preds = gradient_boosting_cls.predict(X_test)\n",
    "gradient_boosting_cls_accuracy = accuracy_score(y_test, gradient_boosting_cls_preds)\n",
    "print(\"Gradient Boosting Classification Accuracy:\", gradient_boosting_cls_accuracy)"
   ]
  },
  {
   "cell_type": "code",
   "execution_count": 29,
   "metadata": {},
   "outputs": [
    {
     "name": "stdout",
     "output_type": "stream",
     "text": [
      "SVM Classification Accuracy: 0.78\n",
      "Best Parameters for SVM: {'kernel': 'linear'}\n"
     ]
    }
   ],
   "source": [
    "from sklearn.model_selection import GridSearchCV\n",
    "svm_params = {\n",
    "    'C': np.linspace(1, 2, 100),\n",
    "    'degree' : [2,3,4,5]\n",
    "}\n",
    "\n",
    "\n",
    "# Perform grid search with cross-validation\n",
    "svm_grid = GridSearchCV(svm_cls, svm_params)\n",
    "svm_grid.fit(X_train, y_train)\n",
    "\n",
    "# Evaluate the model on the test set\n",
    "svm_cls_preds = svm_grid.predict(X_test)\n",
    "svm_cls_accuracy = accuracy_score(y_test, svm_cls_preds)\n",
    "\n",
    "\n",
    "print(\"SVM Classification Accuracy:\", svm_cls_accuracy)\n",
    "print(\"Best Parameters for SVM:\", svm_grid.best_params_)\n",
    "\n"
   ]
  },
  {
   "attachments": {},
   "cell_type": "markdown",
   "metadata": {},
   "source": [
    "After trying several parameter research on svm, we could not achieve better than 83.6, so we decided to try it on greadient boosting"
   ]
  },
  {
   "cell_type": "code",
   "execution_count": 32,
   "metadata": {},
   "outputs": [
    {
     "name": "stdout",
     "output_type": "stream",
     "text": [
      "Gradient Boosting Classification Accuracy: 0.81\n",
      "Best Parameters for Gradient Boosting: {'learning_rate': 0.8111308307896872, 'n_estimators': 175}\n"
     ]
    }
   ],
   "source": [
    "gradient_boosting_params = {\n",
    "    'n_estimators': [10, 50, 100, 150, 200, 175, 80],\n",
    "    'learning_rate': np.logspace(-3, 0, 100)\n",
    "}\n",
    "\n",
    "# Perform grid search with cross-validation\n",
    "gradient_boosting_grid = GridSearchCV(gradient_boosting_cls, gradient_boosting_params)\n",
    "gradient_boosting_grid.fit(X_train, y_train)\n",
    "\n",
    "# Evaluate the model on the test set\n",
    "gradient_boosting_cls_preds = gradient_boosting_grid.predict(X_test)\n",
    "gradient_boosting_cls_accuracy = accuracy_score(y_test, gradient_boosting_cls_preds)\n",
    "\n",
    "print(\"Gradient Boosting Classification Accuracy:\", gradient_boosting_cls_accuracy)\n",
    "print(\"Best Parameters for Gradient Boosting:\", gradient_boosting_grid.best_params_)"
   ]
  },
  {
   "attachments": {},
   "cell_type": "markdown",
   "metadata": {},
   "source": [
    "Gradient boosting did not achieve better and was really long to optimize\n",
    "\n",
    "To achieve the accuracy asked, we will now train a Randomforest for the task"
   ]
  },
  {
   "cell_type": "code",
   "execution_count": 34,
   "metadata": {},
   "outputs": [
    {
     "name": "stdout",
     "output_type": "stream",
     "text": [
      "Best Parameters: {'max_depth': None, 'min_samples_leaf': 1, 'min_samples_split': 2, 'n_estimators': 100}\n",
      "Accuracy: 0.854\n"
     ]
    }
   ],
   "source": [
    "from sklearn.ensemble import RandomForestClassifier\n",
    "rf_classifier = RandomForestClassifier()\n",
    "\n",
    "param_grid = {\n",
    "    'n_estimators': [50, 100, 150],\n",
    "    'max_depth': [None, 5, 10],\n",
    "    'min_samples_split': [2, 5, 10],\n",
    "    'min_samples_leaf': [1, 2, 4],\n",
    "}\n",
    "\n",
    "# Perform grid search with cross-validation\n",
    "grid_search_rf = GridSearchCV(rf_classifier, param_grid)\n",
    "grid_search_rf.fit(X_train, y_train)\n",
    "\n",
    "# Print the best parameters and accuracy\n",
    "print(\"Best Parameters:\", grid_search_rf.best_params_)\n",
    "\n",
    "# Evaluate the model on the test set\n",
    "y_pred = grid_search_rf.predict(X_test)\n",
    "accuracy = accuracy_score(y_test, y_pred)\n",
    "print(\"Accuracy:\", accuracy)"
   ]
  },
  {
   "attachments": {},
   "cell_type": "markdown",
   "metadata": {},
   "source": [
    "Random tree forest seems better suited for this dataset as we achieve a 0.854 accuracy, with a low runtime"
   ]
  },
  {
   "cell_type": "markdown",
   "metadata": {},
   "source": []
  }
 ],
 "metadata": {
  "kernelspec": {
   "display_name": "Python 3",
   "language": "python",
   "name": "python3"
  },
  "language_info": {
   "codemirror_mode": {
    "name": "ipython",
    "version": 3
   },
   "file_extension": ".py",
   "mimetype": "text/x-python",
   "name": "python",
   "nbconvert_exporter": "python",
   "pygments_lexer": "ipython3",
   "version": "3.10.9"
  },
  "orig_nbformat": 4
 },
 "nbformat": 4,
 "nbformat_minor": 2
}
